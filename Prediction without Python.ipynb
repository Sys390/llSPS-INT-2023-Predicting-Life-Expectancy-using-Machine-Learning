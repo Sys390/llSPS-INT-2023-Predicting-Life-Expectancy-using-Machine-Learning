{
    "cells": [
        {
            "cell_type": "markdown",
            "metadata": {},
            "source": "# Accessing an AutoAI Model\nIn this notebook, we use the Watson Machine Learning (WML) API to find the available models available, and find the availablr deployments.\n\nWe then score some records using a Churn model.\n\nFinally, we show how a deployment could be removed.\n\nSee:<br/>https://wml-api-pyclient-dev-v4.mybluemix.net/<br/>\nhttps://watson-ml-v4-api.mybluemix.net/<br/>\nhttps://wml-api-pyclient.mybluemix.net/"
        },
        {
            "cell_type": "code",
            "execution_count": 1,
            "metadata": {},
            "outputs": [
                {
                    "name": "stdout",
                    "output_type": "stream",
                    "text": "Collecting watson-machine-learning-client-v4\n\u001b[?25l  Downloading https://files.pythonhosted.org/packages/cf/9a/cd255fb8e3a67a688c36748233eb57ac4a4331fa574ef678c3cd69e14e44/watson_machine_learning_client_V4-1.0.99-py3-none-any.whl (1.2MB)\n\u001b[K     |\u2588\u2588\u2588\u2588\u2588\u2588\u2588\u2588\u2588\u2588\u2588\u2588\u2588\u2588\u2588\u2588\u2588\u2588\u2588\u2588\u2588\u2588\u2588\u2588\u2588\u2588\u2588\u2588\u2588\u2588\u2588\u2588| 1.2MB 7.5MB/s eta 0:00:01\n\u001b[?25hRequirement already satisfied: pandas<=0.25.3 in /opt/conda/envs/Python36/lib/python3.6/site-packages (from watson-machine-learning-client-v4) (0.24.1)\nRequirement already satisfied: certifi in /opt/conda/envs/Python36/lib/python3.6/site-packages (from watson-machine-learning-client-v4) (2020.4.5.1)\nRequirement already satisfied: requests in /opt/conda/envs/Python36/lib/python3.6/site-packages (from watson-machine-learning-client-v4) (2.21.0)\nRequirement already satisfied: tabulate in /opt/conda/envs/Python36/lib/python3.6/site-packages (from watson-machine-learning-client-v4) (0.8.2)\nRequirement already satisfied: lomond in /opt/conda/envs/Python36/lib/python3.6/site-packages (from watson-machine-learning-client-v4) (0.3.3)\nRequirement already satisfied: urllib3 in /opt/conda/envs/Python36/lib/python3.6/site-packages (from watson-machine-learning-client-v4) (1.24.1)\nCollecting ibm-cos-sdk==2.6.0 (from watson-machine-learning-client-v4)\n\u001b[?25l  Downloading https://files.pythonhosted.org/packages/6f/91/86b2816c7b77d816b03a1ad6cf7db4b1f67556af395d5b93fdae6086c933/ibm-cos-sdk-2.6.0.tar.gz (53kB)\n\u001b[K     |\u2588\u2588\u2588\u2588\u2588\u2588\u2588\u2588\u2588\u2588\u2588\u2588\u2588\u2588\u2588\u2588\u2588\u2588\u2588\u2588\u2588\u2588\u2588\u2588\u2588\u2588\u2588\u2588\u2588\u2588\u2588\u2588| 61kB 21.0MB/s eta 0:00:01\n\u001b[?25hRequirement already satisfied: pytz>=2011k in /opt/conda/envs/Python36/lib/python3.6/site-packages (from pandas<=0.25.3->watson-machine-learning-client-v4) (2018.9)\nRequirement already satisfied: numpy>=1.12.0 in /opt/conda/envs/Python36/lib/python3.6/site-packages (from pandas<=0.25.3->watson-machine-learning-client-v4) (1.15.4)\nRequirement already satisfied: python-dateutil>=2.5.0 in /opt/conda/envs/Python36/lib/python3.6/site-packages (from pandas<=0.25.3->watson-machine-learning-client-v4) (2.7.5)\nRequirement already satisfied: chardet<3.1.0,>=3.0.2 in /opt/conda/envs/Python36/lib/python3.6/site-packages (from requests->watson-machine-learning-client-v4) (3.0.4)\nRequirement already satisfied: idna<2.9,>=2.5 in /opt/conda/envs/Python36/lib/python3.6/site-packages (from requests->watson-machine-learning-client-v4) (2.8)\nRequirement already satisfied: six>=1.10.0 in /opt/conda/envs/Python36/lib/python3.6/site-packages (from lomond->watson-machine-learning-client-v4) (1.12.0)\nCollecting ibm-cos-sdk-core==2.6.0 (from ibm-cos-sdk==2.6.0->watson-machine-learning-client-v4)\n\u001b[?25l  Downloading https://files.pythonhosted.org/packages/ea/c1/c823507c472bf88dbd045445df6850744111d34fd218c6ea3b9c9bde2cfe/ibm-cos-sdk-core-2.6.0.tar.gz (763kB)\n\u001b[K     |\u2588\u2588\u2588\u2588\u2588\u2588\u2588\u2588\u2588\u2588\u2588\u2588\u2588\u2588\u2588\u2588\u2588\u2588\u2588\u2588\u2588\u2588\u2588\u2588\u2588\u2588\u2588\u2588\u2588\u2588\u2588\u2588| 768kB 36.8MB/s eta 0:00:01\n\u001b[?25hCollecting ibm-cos-sdk-s3transfer==2.6.0 (from ibm-cos-sdk==2.6.0->watson-machine-learning-client-v4)\n\u001b[?25l  Downloading https://files.pythonhosted.org/packages/6f/92/682a28b99777a3fdc65e6d5641ed7e1ca470d0eab3bb2826cc30c6b60e21/ibm-cos-sdk-s3transfer-2.6.0.tar.gz (221kB)\n\u001b[K     |\u2588\u2588\u2588\u2588\u2588\u2588\u2588\u2588\u2588\u2588\u2588\u2588\u2588\u2588\u2588\u2588\u2588\u2588\u2588\u2588\u2588\u2588\u2588\u2588\u2588\u2588\u2588\u2588\u2588\u2588\u2588\u2588| 225kB 38.5MB/s eta 0:00:01\n\u001b[?25hRequirement already satisfied: jmespath<1.0.0,>=0.7.1 in /opt/conda/envs/Python36/lib/python3.6/site-packages (from ibm-cos-sdk==2.6.0->watson-machine-learning-client-v4) (0.9.3)\nRequirement already satisfied: docutils<0.16,>=0.10 in /opt/conda/envs/Python36/lib/python3.6/site-packages (from ibm-cos-sdk-core==2.6.0->ibm-cos-sdk==2.6.0->watson-machine-learning-client-v4) (0.14)\nBuilding wheels for collected packages: ibm-cos-sdk, ibm-cos-sdk-core, ibm-cos-sdk-s3transfer\n  Building wheel for ibm-cos-sdk (setup.py) ... \u001b[?25ldone\n\u001b[?25h  Stored in directory: /home/dsxuser/.cache/pip/wheels/37/9c/c4/a2c610ccb877d37c2cb87a5bfe55845fecffd6bb01bcd5e9d5\n  Building wheel for ibm-cos-sdk-core (setup.py) ... \u001b[?25ldone\n\u001b[?25h  Stored in directory: /home/dsxuser/.cache/pip/wheels/75/93/e6/23071b2c037147a0993d34b64a03e51abca84435fc9cd6a278\n  Building wheel for ibm-cos-sdk-s3transfer (setup.py) ... \u001b[?25ldone\n\u001b[?25h  Stored in directory: /home/dsxuser/.cache/pip/wheels/23/d9/d7/43fd95b014eed89466154d8373bf4cffbb3d972de7841e213c\nSuccessfully built ibm-cos-sdk ibm-cos-sdk-core ibm-cos-sdk-s3transfer\nInstalling collected packages: ibm-cos-sdk-core, ibm-cos-sdk-s3transfer, ibm-cos-sdk, watson-machine-learning-client-v4\n  Found existing installation: ibm-cos-sdk-core 2.4.3\n    Uninstalling ibm-cos-sdk-core-2.4.3:\n      Successfully uninstalled ibm-cos-sdk-core-2.4.3\n  Found existing installation: ibm-cos-sdk-s3transfer 2.4.3\n    Uninstalling ibm-cos-sdk-s3transfer-2.4.3:\n      Successfully uninstalled ibm-cos-sdk-s3transfer-2.4.3\n  Found existing installation: ibm-cos-sdk 2.4.3\n    Uninstalling ibm-cos-sdk-2.4.3:\n      Successfully uninstalled ibm-cos-sdk-2.4.3\nSuccessfully installed ibm-cos-sdk-2.6.0 ibm-cos-sdk-core-2.6.0 ibm-cos-sdk-s3transfer-2.6.0 watson-machine-learning-client-v4-1.0.99\n"
                }
            ],
            "source": "# Install the Watson Machine Learning API client\n!pip install watson-machine-learning-client-v4"
        },
        {
            "cell_type": "code",
            "execution_count": 2,
            "metadata": {},
            "outputs": [],
            "source": "wml_credentials = {\n  \"apikey\": \"QJvpz0gQ9O_P5hktrWs97G9X4IfeSjzrxtdiC708FPPh\",\n  \"iam_apikey_description\": \"Auto-generated for key 45288ebd-b9c0-4f20-9c40-5f9c335a8315\",\n  \"iam_apikey_name\": \"wdp-writer\",\n  \"iam_role_crn\": \"crn:v1:bluemix:public:iam::::serviceRole:Writer\",\n  \"iam_serviceid_crn\": \"crn:v1:bluemix:public:iam-identity::a/ec53367407ea4efb8810cf8f6fb0322d::serviceid:ServiceId-8329877a-12a2-4706-a6d1-1ef5e653fbf5\",\n  \"instance_id\": \"6823c5e2-42a0-48f4-a183-7340cf086c7d\",\n  \"url\": \"https://us-south.ml.cloud.ibm.com\"\n}"
        },
        {
            "cell_type": "code",
            "execution_count": 3,
            "metadata": {},
            "outputs": [],
            "source": "from watson_machine_learning_client import WatsonMachineLearningAPIClient\n\nclient = WatsonMachineLearningAPIClient(wml_credentials)"
        },
        {
            "cell_type": "code",
            "execution_count": 4,
            "metadata": {},
            "outputs": [
                {
                    "name": "stdout",
                    "output_type": "stream",
                    "text": "------------------------------------  ------------------------------------------------------------  ------------------------  --------------\nGUID                                  NAME                                                          CREATED                   TYPE\n05624715-e23d-4a68-a7c7-cdcadb796036  Life Expectancy Prediction - P3 ExtraTreesRegressorEstimator  2020-06-14T05:06:59.935Z  wml-hybrid_0.1\nabe81199-5820-4521-b1e2-91ec04a70697  Churn Analysis - P3 LGBMClassifierEstimator                   2020-06-13T16:27:35.341Z  wml-hybrid_0.1\n4f80b567-25f4-4c70-a9bd-1e704c7ee834  Churn Analysis - P3 LGBMClassifierEstimator                   2020-06-11T16:33:27.943Z  wml-hybrid_0.1\n------------------------------------  ------------------------------------------------------------  ------------------------  --------------\n"
                }
            ],
            "source": "# List models already in the repository\nclient.repository.list_models()"
        },
        {
            "cell_type": "markdown",
            "metadata": {},
            "source": "## Accessing the deployed model\nWe extract the information on deployed models and find the deployment for **`Churn model deployment`**."
        },
        {
            "cell_type": "code",
            "execution_count": 6,
            "metadata": {},
            "outputs": [
                {
                    "name": "stdout",
                    "output_type": "stream",
                    "text": "------------------------------------  --------------------------  -----  ------------------------  -------------\nGUID                                  NAME                        STATE  CREATED                   ARTIFACT_TYPE\n41df2241-7d7d-4002-bca2-54cfa88157dc  Life Expectancy Deployment  ready  2020-06-14T05:07:40.313Z  model\nb825aca9-c709-4348-8bf2-777fd1a9f19f  Churn Analysis Deployment   ready  2020-06-11T16:37:27.845Z  model\n------------------------------------  --------------------------  -----  ------------------------  -------------\n"
                }
            ],
            "source": "# List the deployed models\nclient.deployments.list()"
        },
        {
            "cell_type": "code",
            "execution_count": 7,
            "metadata": {},
            "outputs": [],
            "source": "# Extract the information for \"Churn model deployment\" \ndeployments_details = client.deployments.get_details()\ndeployed_uid = next(item for item in deployments_details['resources'] \n                    if item['entity'][\"name\"] == \"Life Expectancy Deployment\")['metadata']['guid']"
        },
        {
            "cell_type": "markdown",
            "metadata": {},
            "source": "### Score a record"
        },
        {
            "cell_type": "code",
            "execution_count": null,
            "metadata": {},
            "outputs": [],
            "source": "# Execute the model\nscoring_payload = { client.deployments.ScoringMetaNames.INPUT_DATA: \n                   [{\n                     'fields': ['Country','Year','Status','Adult Mortality','infant deaths','Alcohol',\n                                'percentage expenditure','Hepatitis B','Measles','BMI','under-five deaths',\n                                'Polio','Total Expernd','LongDistanceBilltype',\n                                'Usage','RatePlan'], \n                     'values': [[1,'F','S',1.0,38000.0,'N',24.393333,23.56,0.0,206.08,0.0,'CC','Budget','Intnl_discount',229.64,3.0],                      \n                                [6,'M','M',2.0,29616.0,'N',49.426667,29.78,0.0,45.5,0.0,  'CH','FreeLocal','Standard',75.29,2.0]\n                               ]\n                    }]\n                  }\npredictions = client.deployments.score(deployed_uid, scoring_payload)\n"
        },
        {
            "cell_type": "code",
            "execution_count": null,
            "metadata": {},
            "outputs": [],
            "source": "predictions"
        },
        {
            "cell_type": "code",
            "execution_count": null,
            "metadata": {},
            "outputs": [],
            "source": "for prediction in predictions['predictions'] :\n    for result in prediction['values'] :\n        print('Prediction: ' + str(result[0]) + \", probability: [\" + \n              str(result[1][0]) + ', ' +  str(result[1][1]) + \"]\" )\n"
        },
        {
            "cell_type": "markdown",
            "metadata": {},
            "source": "## Removing a deployed model\nWe can remove a model from the repository using the remove method.\nIn the example below, we remove the deployed model we just used since we already have the uid.\nWe could look over like we did before and remove all the deployed models.\n\nA similar delete operation can be used to remove the saved models."
        },
        {
            "cell_type": "code",
            "execution_count": 8,
            "metadata": {},
            "outputs": [
                {
                    "name": "stdout",
                    "output_type": "stream",
                    "text": "------------------------------------  --------------------------  -----  ------------------------  -------------\nGUID                                  NAME                        STATE  CREATED                   ARTIFACT_TYPE\n41df2241-7d7d-4002-bca2-54cfa88157dc  Life Expectancy Deployment  ready  2020-06-14T05:07:40.313Z  model\nb825aca9-c709-4348-8bf2-777fd1a9f19f  Churn Analysis Deployment   ready  2020-06-11T16:37:27.845Z  model\n------------------------------------  --------------------------  -----  ------------------------  -------------\n"
                }
            ],
            "source": "# Display the list first\nclient.deployments.list()"
        },
        {
            "cell_type": "code",
            "execution_count": null,
            "metadata": {},
            "outputs": [],
            "source": "# Remove the deployment\nclient.deployments.delete(deployed_uid)"
        },
        {
            "cell_type": "code",
            "execution_count": null,
            "metadata": {},
            "outputs": [],
            "source": "client.deployments.list()"
        },
        {
            "cell_type": "code",
            "execution_count": null,
            "metadata": {},
            "outputs": [],
            "source": ""
        }
    ],
    "metadata": {
        "kernelspec": {
            "display_name": "Python 3.6",
            "language": "python",
            "name": "python3"
        },
        "language_info": {
            "codemirror_mode": {
                "name": "ipython",
                "version": 3
            },
            "file_extension": ".py",
            "mimetype": "text/x-python",
            "name": "python",
            "nbconvert_exporter": "python",
            "pygments_lexer": "ipython3",
            "version": "3.6.9"
        }
    },
    "nbformat": 4,
    "nbformat_minor": 1
}